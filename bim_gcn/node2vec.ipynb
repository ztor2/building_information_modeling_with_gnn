{
 "cells": [
  {
   "cell_type": "markdown",
   "id": "39d8eea6-e052-41f6-bc2c-4e8e695ddf8b",
   "metadata": {},
   "source": [
    "- node2vec 라이브러리는 'pip install node2vec' 입력하면 설치할 수 있습니다.\n",
    "- 라이브러리 출처: https://github.com/eliorc/node2vec\n",
    "- node2vec 논문: https://arxiv.org/abs/1607.00653\n",
    "- deepwalk 논문: https://arxiv.org/abs/1403.6652"
   ]
  },
  {
   "cell_type": "code",
   "execution_count": 31,
   "id": "093b8dbd-9084-4caf-96ad-3390ed8c2d9b",
   "metadata": {},
   "outputs": [],
   "source": [
    "import pandas as pd\n",
    "import numpy as np\n",
    "from node2vec import Node2Vec\n",
    "import networkx as nx\n",
    "import warnings; warnings.filterwarnings('ignore')"
   ]
  },
  {
   "cell_type": "code",
   "execution_count": 2,
   "id": "36a513b3-d4c3-46d0-9627-c9ed74d3624e",
   "metadata": {},
   "outputs": [],
   "source": [
    "elist = pd.read_csv('space_adj_v3.csv', header=None)"
   ]
  },
  {
   "cell_type": "code",
   "execution_count": 5,
   "id": "26c2a667-d13c-49ec-b576-f63861218ddc",
   "metadata": {},
   "outputs": [
    {
     "data": {
      "text/html": [
       "<div>\n",
       "<style scoped>\n",
       "    .dataframe tbody tr th:only-of-type {\n",
       "        vertical-align: middle;\n",
       "    }\n",
       "\n",
       "    .dataframe tbody tr th {\n",
       "        vertical-align: top;\n",
       "    }\n",
       "\n",
       "    .dataframe thead th {\n",
       "        text-align: right;\n",
       "    }\n",
       "</style>\n",
       "<table border=\"1\" class=\"dataframe\">\n",
       "  <thead>\n",
       "    <tr style=\"text-align: right;\">\n",
       "      <th></th>\n",
       "      <th>s1</th>\n",
       "      <th>s2</th>\n",
       "    </tr>\n",
       "  </thead>\n",
       "  <tbody>\n",
       "    <tr>\n",
       "      <th>0</th>\n",
       "      <td>99248</td>\n",
       "      <td>718026</td>\n",
       "    </tr>\n",
       "    <tr>\n",
       "      <th>1</th>\n",
       "      <td>99308</td>\n",
       "      <td>913844</td>\n",
       "    </tr>\n",
       "    <tr>\n",
       "      <th>2</th>\n",
       "      <td>99368</td>\n",
       "      <td>913844</td>\n",
       "    </tr>\n",
       "    <tr>\n",
       "      <th>3</th>\n",
       "      <td>99428</td>\n",
       "      <td>87991</td>\n",
       "    </tr>\n",
       "    <tr>\n",
       "      <th>4</th>\n",
       "      <td>99428</td>\n",
       "      <td>913844</td>\n",
       "    </tr>\n",
       "  </tbody>\n",
       "</table>\n",
       "</div>"
      ],
      "text/plain": [
       "      s1      s2\n",
       "0  99248  718026\n",
       "1  99308  913844\n",
       "2  99368  913844\n",
       "3  99428   87991\n",
       "4  99428  913844"
      ]
     },
     "execution_count": 5,
     "metadata": {},
     "output_type": "execute_result"
    }
   ],
   "source": [
    "elist = elist.iloc[:, :4]\n",
    "elist = elist.rename(columns={0:'s1', 1:'s1_label', 2:'s2', 3:'s2_label'})\n",
    "elist = elist[['s1', 's2']]; elist.head()"
   ]
  },
  {
   "cell_type": "markdown",
   "id": "723af934-09fa-4dbb-936a-066f7d1fd5f8",
   "metadata": {},
   "source": [
    "- node2vec 라이브러리는 networkx 형식의 그래프를 input으로 받으므로 edgelist를 networkx 그래프 형태로 변환."
   ]
  },
  {
   "cell_type": "code",
   "execution_count": 12,
   "id": "b2bee76e-beb5-417a-9f9c-69a243ffd188",
   "metadata": {},
   "outputs": [],
   "source": [
    "G = nx.from_pandas_edgelist(elist, 's1', 's2')"
   ]
  },
  {
   "cell_type": "markdown",
   "id": "94b46bf8-c569-443c-87e6-8689e0444ac8",
   "metadata": {},
   "source": [
    "- node2vec 파라미터 설정"
   ]
  },
  {
   "cell_type": "code",
   "execution_count": 17,
   "id": "ac3b9a81-6c42-4713-a81e-9b7a323bb71e",
   "metadata": {},
   "outputs": [],
   "source": [
    "emb_dim = 16\n",
    "walk_len = 10\n",
    "num_walk = 10\n",
    "window_size = 3\n",
    "n2v_epoch = 1\n",
    "n_iter = 5"
   ]
  },
  {
   "cell_type": "markdown",
   "id": "f8008a53-2e6b-4a99-9907-a16d666c4915",
   "metadata": {},
   "source": [
    "- node2vec 임베딩 수행"
   ]
  },
  {
   "cell_type": "code",
   "execution_count": 20,
   "id": "141e1f01-3396-47cb-9579-57c3372a41a3",
   "metadata": {},
   "outputs": [
    {
     "data": {
      "application/vnd.jupyter.widget-view+json": {
       "model_id": "d9892ab07c414a599ffc2213995b9dd1",
       "version_major": 2,
       "version_minor": 0
      },
      "text/plain": [
       "Computing transition probabilities:   0%|          | 0/16090 [00:00<?, ?it/s]"
      ]
     },
     "metadata": {},
     "output_type": "display_data"
    },
    {
     "name": "stderr",
     "output_type": "stream",
     "text": [
      "Generating walks (CPU: 1): 100%|███████████████████████████████████████████████████████| 10/10 [01:27<00:00,  8.71s/it]\n"
     ]
    }
   ],
   "source": [
    "model = Node2Vec(G, dimensions=emb_dim, walk_length=walk_len, num_walks=num_walk)\n",
    "n2v = model.fit(window=window_size, min_count=1)\n",
    "node_emb = n2v.wv"
   ]
  },
  {
   "cell_type": "markdown",
   "id": "5ebed471-c70c-473f-9aa4-891b03e8c78a",
   "metadata": {},
   "source": [
    "- 임베딩을 데이터프레임으로 표시\n",
    "- 각 부재/공간의 임베딩이 지정한 dimension(emb_dim) 만큼의 데이터로 표현된다."
   ]
  },
  {
   "cell_type": "code",
   "execution_count": 33,
   "id": "c0ea042e-4f17-4577-a7ab-bf6c87e33424",
   "metadata": {},
   "outputs": [
    {
     "data": {
      "text/html": [
       "<div>\n",
       "<style scoped>\n",
       "    .dataframe tbody tr th:only-of-type {\n",
       "        vertical-align: middle;\n",
       "    }\n",
       "\n",
       "    .dataframe tbody tr th {\n",
       "        vertical-align: top;\n",
       "    }\n",
       "\n",
       "    .dataframe thead th {\n",
       "        text-align: right;\n",
       "    }\n",
       "</style>\n",
       "<table border=\"1\" class=\"dataframe\">\n",
       "  <thead>\n",
       "    <tr style=\"text-align: right;\">\n",
       "      <th></th>\n",
       "      <th>id</th>\n",
       "      <th>0</th>\n",
       "      <th>1</th>\n",
       "      <th>2</th>\n",
       "      <th>3</th>\n",
       "      <th>4</th>\n",
       "      <th>5</th>\n",
       "      <th>6</th>\n",
       "      <th>7</th>\n",
       "      <th>8</th>\n",
       "      <th>9</th>\n",
       "      <th>10</th>\n",
       "      <th>11</th>\n",
       "      <th>12</th>\n",
       "      <th>13</th>\n",
       "      <th>14</th>\n",
       "      <th>15</th>\n",
       "    </tr>\n",
       "  </thead>\n",
       "  <tbody>\n",
       "    <tr>\n",
       "      <th>0</th>\n",
       "      <td>209047</td>\n",
       "      <td>-0.928066</td>\n",
       "      <td>-1.027372</td>\n",
       "      <td>-0.437074</td>\n",
       "      <td>-0.180518</td>\n",
       "      <td>0.622333</td>\n",
       "      <td>-1.341922</td>\n",
       "      <td>-0.204972</td>\n",
       "      <td>-1.610391</td>\n",
       "      <td>-0.483020</td>\n",
       "      <td>-0.830790</td>\n",
       "      <td>-0.478598</td>\n",
       "      <td>0.811483</td>\n",
       "      <td>0.475787</td>\n",
       "      <td>-0.346786</td>\n",
       "      <td>0.410559</td>\n",
       "      <td>0.139909</td>\n",
       "    </tr>\n",
       "    <tr>\n",
       "      <th>1</th>\n",
       "      <td>1013773</td>\n",
       "      <td>-0.356924</td>\n",
       "      <td>0.727578</td>\n",
       "      <td>-0.637722</td>\n",
       "      <td>0.399923</td>\n",
       "      <td>0.302692</td>\n",
       "      <td>-1.765869</td>\n",
       "      <td>-1.476964</td>\n",
       "      <td>0.353335</td>\n",
       "      <td>0.262062</td>\n",
       "      <td>-0.910535</td>\n",
       "      <td>-0.137551</td>\n",
       "      <td>1.114366</td>\n",
       "      <td>0.845917</td>\n",
       "      <td>-0.279772</td>\n",
       "      <td>-0.224211</td>\n",
       "      <td>0.018927</td>\n",
       "    </tr>\n",
       "    <tr>\n",
       "      <th>2</th>\n",
       "      <td>209251</td>\n",
       "      <td>-0.404510</td>\n",
       "      <td>0.769772</td>\n",
       "      <td>-0.614292</td>\n",
       "      <td>0.340548</td>\n",
       "      <td>0.309851</td>\n",
       "      <td>-1.795105</td>\n",
       "      <td>-1.454815</td>\n",
       "      <td>0.403340</td>\n",
       "      <td>0.296095</td>\n",
       "      <td>-0.973663</td>\n",
       "      <td>-0.097357</td>\n",
       "      <td>1.071220</td>\n",
       "      <td>0.861355</td>\n",
       "      <td>-0.397289</td>\n",
       "      <td>-0.183062</td>\n",
       "      <td>0.031031</td>\n",
       "    </tr>\n",
       "    <tr>\n",
       "      <th>3</th>\n",
       "      <td>510</td>\n",
       "      <td>0.948471</td>\n",
       "      <td>0.642889</td>\n",
       "      <td>-0.333743</td>\n",
       "      <td>-0.637554</td>\n",
       "      <td>0.510484</td>\n",
       "      <td>-0.352347</td>\n",
       "      <td>0.384359</td>\n",
       "      <td>-0.280178</td>\n",
       "      <td>-0.901641</td>\n",
       "      <td>-0.912026</td>\n",
       "      <td>-2.414509</td>\n",
       "      <td>0.339611</td>\n",
       "      <td>1.120640</td>\n",
       "      <td>-0.205278</td>\n",
       "      <td>0.549256</td>\n",
       "      <td>0.815407</td>\n",
       "    </tr>\n",
       "    <tr>\n",
       "      <th>4</th>\n",
       "      <td>1005120</td>\n",
       "      <td>0.765668</td>\n",
       "      <td>-0.141117</td>\n",
       "      <td>-1.144521</td>\n",
       "      <td>0.116728</td>\n",
       "      <td>2.077120</td>\n",
       "      <td>-0.366280</td>\n",
       "      <td>-0.097086</td>\n",
       "      <td>0.262583</td>\n",
       "      <td>0.020530</td>\n",
       "      <td>-0.236509</td>\n",
       "      <td>-1.022013</td>\n",
       "      <td>0.080896</td>\n",
       "      <td>1.469711</td>\n",
       "      <td>-0.366343</td>\n",
       "      <td>1.720756</td>\n",
       "      <td>-0.251622</td>\n",
       "    </tr>\n",
       "  </tbody>\n",
       "</table>\n",
       "</div>"
      ],
      "text/plain": [
       "        id         0         1         2         3         4         5  \\\n",
       "0   209047 -0.928066 -1.027372 -0.437074 -0.180518  0.622333 -1.341922   \n",
       "1  1013773 -0.356924  0.727578 -0.637722  0.399923  0.302692 -1.765869   \n",
       "2   209251 -0.404510  0.769772 -0.614292  0.340548  0.309851 -1.795105   \n",
       "3      510  0.948471  0.642889 -0.333743 -0.637554  0.510484 -0.352347   \n",
       "4  1005120  0.765668 -0.141117 -1.144521  0.116728  2.077120 -0.366280   \n",
       "\n",
       "          6         7         8         9        10        11        12  \\\n",
       "0 -0.204972 -1.610391 -0.483020 -0.830790 -0.478598  0.811483  0.475787   \n",
       "1 -1.476964  0.353335  0.262062 -0.910535 -0.137551  1.114366  0.845917   \n",
       "2 -1.454815  0.403340  0.296095 -0.973663 -0.097357  1.071220  0.861355   \n",
       "3  0.384359 -0.280178 -0.901641 -0.912026 -2.414509  0.339611  1.120640   \n",
       "4 -0.097086  0.262583  0.020530 -0.236509 -1.022013  0.080896  1.469711   \n",
       "\n",
       "         13        14        15  \n",
       "0 -0.346786  0.410559  0.139909  \n",
       "1 -0.279772 -0.224211  0.018927  \n",
       "2 -0.397289 -0.183062  0.031031  \n",
       "3 -0.205278  0.549256  0.815407  \n",
       "4 -0.366343  1.720756 -0.251622  "
      ]
     },
     "execution_count": 33,
     "metadata": {},
     "output_type": "execute_result"
    }
   ],
   "source": [
    "el_ids = pd.DataFrame(node_emb.wv.vocab.keys(), columns=['id'])\n",
    "n2v_df = pd.concat([el_ids, pd.DataFrame(node_emb.wv.vectors)], axis=1); n2v_df.iloc[:5]"
   ]
  },
  {
   "cell_type": "code",
   "execution_count": null,
   "id": "77450e1c-8c52-4db9-9585-1f627bf098fa",
   "metadata": {},
   "outputs": [],
   "source": []
  }
 ],
 "metadata": {
  "kernelspec": {
   "display_name": "Python 3",
   "language": "python",
   "name": "python3"
  },
  "language_info": {
   "codemirror_mode": {
    "name": "ipython",
    "version": 3
   },
   "file_extension": ".py",
   "mimetype": "text/x-python",
   "name": "python",
   "nbconvert_exporter": "python",
   "pygments_lexer": "ipython3",
   "version": "3.8.3"
  }
 },
 "nbformat": 4,
 "nbformat_minor": 5
}
