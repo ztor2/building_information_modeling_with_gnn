{
 "cells": [
  {
   "cell_type": "code",
   "execution_count": 1,
   "id": "628a2bfe-44fd-47ac-b430-d0541ec37066",
   "metadata": {},
   "outputs": [],
   "source": [
    "from model import GCN\n",
    "from utils import *\n",
    "import torch.nn.functional as F\n",
    "import torch.optim as optim\n",
    "import numpy as np\n",
    "import pandas as pd\n",
    "import pickle as pkl\n",
    "import matplotlib.pyplot as plt\n",
    "import time\n",
    "from sklearn.metrics import confusion_matrix"
   ]
  },
  {
   "cell_type": "code",
   "execution_count": 2,
   "id": "f54d6c4d-8730-4ad1-8302-538821f0b18a",
   "metadata": {},
   "outputs": [],
   "source": [
    "with open('space.labels', 'rb') as f:\n",
    "    labels_num = pkl.load(f)"
   ]
  },
  {
   "cell_type": "markdown",
   "id": "5dbb7496-ea56-4f7f-a132-b55672cddc87",
   "metadata": {},
   "source": [
    "#### Import & preprocess dataset"
   ]
  },
  {
   "cell_type": "code",
   "execution_count": 3,
   "id": "ec11dd30-7364-4100-948c-40762c2fc9dd",
   "metadata": {},
   "outputs": [],
   "source": [
    "dataset = 'space'\n",
    "names = ['graph.jac.0.85', 'feature', 'labels']"
   ]
  },
  {
   "cell_type": "code",
   "execution_count": 4,
   "id": "c3764a33-30bb-4472-a487-15d0cb550460",
   "metadata": {},
   "outputs": [],
   "source": [
    "adj, feature, labels = load_data(dataset, names)\n",
    "# adj, feature are preprocessed already when load data"
   ]
  },
  {
   "cell_type": "markdown",
   "id": "de3f1f5e-1dc4-406b-8e27-9ca58bc840b1",
   "metadata": {},
   "source": [
    "#### Setting"
   ]
  },
  {
   "cell_type": "code",
   "execution_count": 6,
   "id": "e6bc4332-3044-4e99-95c0-2173c385ed8b",
   "metadata": {},
   "outputs": [],
   "source": [
    "epochs = 200\n",
    "learning_rate = 0.05\n",
    "weight_decay = 5e-4\n",
    "num_hidden = 32\n",
    "dropout = 0.3\n",
    "train_ratio = 0.8\n",
    "val_ratio = train_ratio * 0. # len_val = len_train * val_ratio\n",
    "train_val_ratio = [train_ratio, val_ratio]  \n",
    "n_iter = 10"
   ]
  },
  {
   "cell_type": "code",
   "execution_count": 7,
   "id": "02973e80-cdb0-4c24-a1cc-256b0c3be884",
   "metadata": {},
   "outputs": [],
   "source": [
    "hparams = epochs, learning_rate, weight_decay, num_hidden, dropout, train_val_ratio"
   ]
  },
  {
   "cell_type": "code",
   "execution_count": 8,
   "id": "82fccbb5-f9d9-4ea5-a0dc-25a7e0b314d7",
   "metadata": {},
   "outputs": [
    {
     "data": {
      "text/plain": [
       "device(type='cuda', index=0)"
      ]
     },
     "execution_count": 8,
     "metadata": {},
     "output_type": "execute_result"
    }
   ],
   "source": [
    "device = torch.device('cuda:0' if torch.cuda.is_available() else 'cpu')\n",
    "device"
   ]
  },
  {
   "cell_type": "code",
   "execution_count": 9,
   "id": "4b51b962-e780-4111-be35-7cea0864f4f1",
   "metadata": {},
   "outputs": [],
   "source": [
    "def gcn_iter(adj, feature, labels, hparams, n_iter=1):\n",
    "    \n",
    "    epochs, learning_rate, weight_decay, num_hidden, dropout, train_val_ratio = hparams\n",
    "    len_train= int(len(feature)*train_val_ratio[0])       \n",
    "    len_val= int(len_train*train_val_ratio[1])\n",
    "    len_test= len(feature)-(len_train+len_val)\n",
    "    \n",
    "    acc_results = []\n",
    "    loss_results = []\n",
    "    start = time.time()\n",
    "    \n",
    "    for i in range(n_iter):\n",
    "        idx_train, idx_val, idx_test = split(len(feature), len_train, len_val, len_test)\n",
    "        model = GCN(nfeat=feature.shape[1], nhid=num_hidden, nclass=labels.max().item()+1, dropout=dropout)\n",
    "        optimizer = optim.Adam(model.parameters(), lr=learning_rate, weight_decay=weight_decay)\n",
    "        \n",
    "        for epoch in range(epochs):\n",
    "            model.train()\n",
    "            optimizer.zero_grad()\n",
    "            output = model(feature, adj)\n",
    "            train_loss = F.nll_loss(output[idx_train], labels[idx_train])\n",
    "            train_acc = accuracy(output[idx_train], labels[idx_train])\n",
    "            train_loss.backward()\n",
    "            optimizer.step()\n",
    "    \n",
    "            model.eval()\n",
    "            output = model(feature, adj)\n",
    "            val_loss = F.nll_loss(output[idx_val], labels[idx_val])\n",
    "            val_acc = accuracy(output[idx_val], labels[idx_val])\n",
    "            \n",
    "            if epoch % 20 == 0:\n",
    "                print('Experiment {} - {}/{} val_acc: {:.4f} val_loss: {:.4f}'.format(\\\n",
    "                      i+1, epoch+1, epochs, val_acc, val_loss), end='\\r', flush=False)\n",
    "        model.eval()\n",
    "        output = model(feature, adj)\n",
    "        test_acc = accuracy(output[idx_test], labels[idx_test])\n",
    "        test_loss = F.nll_loss(output[idx_test], labels[idx_test])\n",
    "        acc_results.append(float(test_acc.detach().numpy()))\n",
    "        loss_results.append(float(test_loss.detach().numpy()))\n",
    "        \n",
    "        print('Experiment {} result - test_acc: {:.4f}, test_loss: {:.4f}'.format(i+1, test_acc, test_loss), end='\\n')\n",
    "        \n",
    "    print('All experiments finished!', '\\nElapsed time: {:.2f}s'.format(time.time()-start), end='\\n')\n",
    "    return acc_results, loss_results"
   ]
  },
  {
   "cell_type": "code",
   "execution_count": 10,
   "id": "cf5630f1-a5a8-43a8-8604-f99242822849",
   "metadata": {},
   "outputs": [
    {
     "name": "stdout",
     "output_type": "stream",
     "text": [
      "Experiment 1 result - test_acc: 0.9400, test_loss: 0.3965\n",
      "Experiment 2 result - test_acc: 0.9400, test_loss: 0.6683\n",
      "Experiment 3 result - test_acc: 0.8400, test_loss: 1.1855\n",
      "Experiment 4 result - test_acc: 0.9400, test_loss: 0.2280\n",
      "Experiment 5 result - test_acc: 0.9200, test_loss: 0.8414\n",
      "Experiment 6 result - test_acc: 0.9200, test_loss: 0.3463\n",
      "Experiment 7 result - test_acc: 0.8800, test_loss: 0.5438\n",
      "Experiment 8 result - test_acc: 0.8800, test_loss: 0.8657\n",
      "Experiment 9 result - test_acc: 0.9200, test_loss: 0.4139\n",
      "Experiment 10 result - test_acc: 0.8600, test_loss: 0.6452\n",
      "All experiments finished! \n",
      "Elapsed time: 7.15s\n",
      "90.40 ± 3.44\n"
     ]
    }
   ],
   "source": [
    "results = gcn_iter(adj, feature, labels, hparams, n_iter=n_iter)\n",
    "print('{:.2f} ± {:.2f}'.format(np.round(np.mean(results[0])*100, 2), np.round(np.std(results[0])*100, 2)))"
   ]
  },
  {
   "cell_type": "code",
   "execution_count": 34,
   "id": "474d22fb-0cd3-451a-8e00-b78250c429cd",
   "metadata": {},
   "outputs": [],
   "source": [
    "# print(np.round(np.mean(results[0])*100, 2),'±',np.round(np.std(results[0])*100, 2))"
   ]
  },
  {
   "cell_type": "code",
   "execution_count": null,
   "id": "85451b92-558f-4d73-bba8-2256bd3e9fdd",
   "metadata": {},
   "outputs": [],
   "source": []
  }
 ],
 "metadata": {
  "kernelspec": {
   "display_name": "Python 3",
   "language": "python",
   "name": "python3"
  },
  "language_info": {
   "codemirror_mode": {
    "name": "ipython",
    "version": 3
   },
   "file_extension": ".py",
   "mimetype": "text/x-python",
   "name": "python",
   "nbconvert_exporter": "python",
   "pygments_lexer": "ipython3",
   "version": "3.8.3"
  }
 },
 "nbformat": 4,
 "nbformat_minor": 5
}
